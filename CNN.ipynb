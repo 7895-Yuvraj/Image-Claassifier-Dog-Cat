{
 "cells": [
  {
   "cell_type": "code",
   "execution_count": 1,
   "id": "4b36d187",
   "metadata": {},
   "outputs": [],
   "source": [
    "import tensorflow as tf"
   ]
  },
  {
   "cell_type": "code",
   "execution_count": 2,
   "id": "0a7262e1",
   "metadata": {},
   "outputs": [],
   "source": [
    "import keras "
   ]
  },
  {
   "cell_type": "code",
   "execution_count": 3,
   "id": "fe41c55a",
   "metadata": {},
   "outputs": [],
   "source": [
    "# Importing Data Preprocessing"
   ]
  },
  {
   "cell_type": "code",
   "execution_count": 4,
   "id": "de6d3dd7",
   "metadata": {},
   "outputs": [],
   "source": [
    "from keras.preprocessing.image import ImageDataGenerator"
   ]
  },
  {
   "cell_type": "code",
   "execution_count": 5,
   "id": "920d1b03",
   "metadata": {},
   "outputs": [],
   "source": [
    "gen=ImageDataGenerator(rescale=1/255,shear_range=0.2,zoom_range=0.2)"
   ]
  },
  {
   "cell_type": "code",
   "execution_count": 8,
   "id": "8d73117e",
   "metadata": {},
   "outputs": [
    {
     "data": {
      "text/plain": [
       "'C:\\\\Users\\\\dell'"
      ]
     },
     "execution_count": 8,
     "metadata": {},
     "output_type": "execute_result"
    }
   ],
   "source": [
    "pwd"
   ]
  },
  {
   "cell_type": "code",
   "execution_count": 9,
   "id": "988bbf62",
   "metadata": {},
   "outputs": [
    {
     "name": "stdout",
     "output_type": "stream",
     "text": [
      "Found 8048 images belonging to 2 classes.\n"
     ]
    }
   ],
   "source": [
    "training_set=gen.flow_from_directory('C:/Users/dell/dataset-20221115T103045Z-001/dataset/training_set',target_size=(64,64),class_mode='binary')"
   ]
  },
  {
   "cell_type": "code",
   "execution_count": 12,
   "id": "0e88485f",
   "metadata": {},
   "outputs": [
    {
     "data": {
      "text/plain": [
       "{'cats': 0, 'dogs': 1}"
      ]
     },
     "execution_count": 12,
     "metadata": {},
     "output_type": "execute_result"
    }
   ],
   "source": [
    "training_set.class_indices"
   ]
  },
  {
   "cell_type": "code",
   "execution_count": 13,
   "id": "920424cf",
   "metadata": {},
   "outputs": [],
   "source": [
    "#Preprocessing the test set"
   ]
  },
  {
   "cell_type": "code",
   "execution_count": 14,
   "id": "295a7353",
   "metadata": {},
   "outputs": [],
   "source": [
    "test_datagen=ImageDataGenerator(rescale=1/255)"
   ]
  },
  {
   "cell_type": "code",
   "execution_count": 16,
   "id": "50544f7f",
   "metadata": {},
   "outputs": [
    {
     "name": "stdout",
     "output_type": "stream",
     "text": [
      "Found 2000 images belonging to 2 classes.\n"
     ]
    }
   ],
   "source": [
    "test_set=test_datagen.flow_from_directory('C:/Users/dell/dataset-20221115T103045Z-001/dataset/test_set',target_size=(64,64),class_mode='binary')"
   ]
  },
  {
   "cell_type": "code",
   "execution_count": 17,
   "id": "e16a659e",
   "metadata": {},
   "outputs": [],
   "source": [
    "#Modelling"
   ]
  },
  {
   "cell_type": "code",
   "execution_count": 18,
   "id": "61eaf6dd",
   "metadata": {},
   "outputs": [],
   "source": [
    "#Buildingthe convolution Neural Network "
   ]
  },
  {
   "cell_type": "code",
   "execution_count": 19,
   "id": "a0fcba57",
   "metadata": {},
   "outputs": [],
   "source": [
    "## Inicialising the CNN"
   ]
  },
  {
   "cell_type": "code",
   "execution_count": 20,
   "id": "096e3fe8",
   "metadata": {},
   "outputs": [],
   "source": [
    "from keras.models import Sequential\n",
    "classifier=Sequential()"
   ]
  },
  {
   "cell_type": "code",
   "execution_count": 22,
   "id": "c449e172",
   "metadata": {},
   "outputs": [],
   "source": [
    "#Step-1 Convolution"
   ]
  },
  {
   "cell_type": "code",
   "execution_count": 23,
   "id": "9891d8af",
   "metadata": {},
   "outputs": [],
   "source": [
    "from keras.layers import Conv2D\n",
    "classifier.add(Conv2D(filters=32,kernel_size=3,activation='relu',input_shape=[64,64,3]))"
   ]
  },
  {
   "cell_type": "code",
   "execution_count": 24,
   "id": "b14eef53",
   "metadata": {},
   "outputs": [],
   "source": [
    "#Step-2-Pooling"
   ]
  },
  {
   "cell_type": "code",
   "execution_count": 25,
   "id": "d005aa8d",
   "metadata": {},
   "outputs": [],
   "source": [
    "from keras.layers import MaxPooling2D\n",
    "classifier.add(MaxPooling2D(pool_size=2,strides=2))"
   ]
  },
  {
   "cell_type": "code",
   "execution_count": 27,
   "id": "f9368f4e",
   "metadata": {},
   "outputs": [],
   "source": [
    "#Adding a second convolutional layer----For accuracy and minimum error "
   ]
  },
  {
   "cell_type": "code",
   "execution_count": 28,
   "id": "8838643c",
   "metadata": {},
   "outputs": [],
   "source": [
    "classifier.add(Conv2D(filters=32,kernel_size=3,activation='relu'))\n",
    "classifier.add(MaxPooling2D(pool_size=2,strides=2))"
   ]
  },
  {
   "cell_type": "code",
   "execution_count": 29,
   "id": "300d5201",
   "metadata": {},
   "outputs": [],
   "source": [
    "#Flattening"
   ]
  },
  {
   "cell_type": "code",
   "execution_count": 31,
   "id": "fe92138f",
   "metadata": {},
   "outputs": [],
   "source": [
    "from keras.layers import Flatten\n",
    "classifier.add(Flatten())"
   ]
  },
  {
   "cell_type": "code",
   "execution_count": 32,
   "id": "e9feea91",
   "metadata": {},
   "outputs": [],
   "source": [
    "#Full connection "
   ]
  },
  {
   "cell_type": "code",
   "execution_count": 33,
   "id": "90d01c6b",
   "metadata": {},
   "outputs": [],
   "source": [
    "from keras.layers import Dense\n",
    "classifier.add(Dense(units=128,activation='relu'))#Hidden layer with 128 nuerons\n",
    "classifier.add(Dense(units=1,activation='sigmoid'))#Output with one nueron"
   ]
  },
  {
   "cell_type": "code",
   "execution_count": 34,
   "id": "796ebdae",
   "metadata": {},
   "outputs": [],
   "source": [
    "#Compiling the CNN"
   ]
  },
  {
   "cell_type": "code",
   "execution_count": 35,
   "id": "a0f340e0",
   "metadata": {},
   "outputs": [],
   "source": [
    "classifier.compile(optimizer='adam',loss='binary_crossentropy',metrics=['accuracy'])"
   ]
  },
  {
   "cell_type": "code",
   "execution_count": 36,
   "id": "3a128c4b",
   "metadata": {},
   "outputs": [],
   "source": [
    "#Training the CNN model with train data"
   ]
  },
  {
   "cell_type": "code",
   "execution_count": 38,
   "id": "38d4e990",
   "metadata": {},
   "outputs": [
    {
     "name": "stdout",
     "output_type": "stream",
     "text": [
      "Epoch 1/25\n",
      "252/252 [==============================] - 174s 685ms/step - loss: 0.6781 - accuracy: 0.5743 - val_loss: 0.6439 - val_accuracy: 0.6290\n",
      "Epoch 2/25\n",
      "252/252 [==============================] - 69s 273ms/step - loss: 0.6221 - accuracy: 0.6631 - val_loss: 0.5860 - val_accuracy: 0.7110\n",
      "Epoch 3/25\n",
      "252/252 [==============================] - 69s 273ms/step - loss: 0.5869 - accuracy: 0.6900 - val_loss: 0.5933 - val_accuracy: 0.6910\n",
      "Epoch 4/25\n",
      "252/252 [==============================] - 69s 274ms/step - loss: 0.5459 - accuracy: 0.7240 - val_loss: 0.6006 - val_accuracy: 0.6945\n",
      "Epoch 5/25\n",
      "252/252 [==============================] - 70s 276ms/step - loss: 0.5247 - accuracy: 0.7336 - val_loss: 0.5191 - val_accuracy: 0.7410\n",
      "Epoch 6/25\n",
      "252/252 [==============================] - 74s 294ms/step - loss: 0.4991 - accuracy: 0.7616 - val_loss: 0.5882 - val_accuracy: 0.6935\n",
      "Epoch 7/25\n",
      "252/252 [==============================] - 72s 287ms/step - loss: 0.4848 - accuracy: 0.7703 - val_loss: 0.5072 - val_accuracy: 0.7610\n",
      "Epoch 8/25\n",
      "252/252 [==============================] - 69s 272ms/step - loss: 0.4538 - accuracy: 0.7828 - val_loss: 0.5068 - val_accuracy: 0.7610\n",
      "Epoch 9/25\n",
      "252/252 [==============================] - 69s 275ms/step - loss: 0.4415 - accuracy: 0.7894 - val_loss: 0.4908 - val_accuracy: 0.7620\n",
      "Epoch 10/25\n",
      "252/252 [==============================] - 69s 274ms/step - loss: 0.4279 - accuracy: 0.8009 - val_loss: 0.4794 - val_accuracy: 0.7860\n",
      "Epoch 11/25\n",
      "252/252 [==============================] - 70s 276ms/step - loss: 0.3979 - accuracy: 0.8134 - val_loss: 0.4923 - val_accuracy: 0.7820\n",
      "Epoch 12/25\n",
      "252/252 [==============================] - 69s 274ms/step - loss: 0.3956 - accuracy: 0.8168 - val_loss: 0.5356 - val_accuracy: 0.7550\n",
      "Epoch 13/25\n",
      "252/252 [==============================] - 71s 280ms/step - loss: 0.3718 - accuracy: 0.8319 - val_loss: 0.4846 - val_accuracy: 0.7755\n",
      "Epoch 14/25\n",
      "252/252 [==============================] - 87s 346ms/step - loss: 0.3543 - accuracy: 0.8437 - val_loss: 0.5359 - val_accuracy: 0.7700\n",
      "Epoch 15/25\n",
      "252/252 [==============================] - 85s 337ms/step - loss: 0.3425 - accuracy: 0.8490 - val_loss: 0.4961 - val_accuracy: 0.7755\n",
      "Epoch 16/25\n",
      "252/252 [==============================] - 94s 375ms/step - loss: 0.3242 - accuracy: 0.8570 - val_loss: 0.5406 - val_accuracy: 0.7820\n",
      "Epoch 17/25\n",
      "252/252 [==============================] - 93s 369ms/step - loss: 0.3087 - accuracy: 0.8659 - val_loss: 0.5865 - val_accuracy: 0.7615\n",
      "Epoch 18/25\n",
      "252/252 [==============================] - 91s 361ms/step - loss: 0.2876 - accuracy: 0.8746 - val_loss: 0.5725 - val_accuracy: 0.7770\n",
      "Epoch 19/25\n",
      "252/252 [==============================] - 183s 729ms/step - loss: 0.2698 - accuracy: 0.8846 - val_loss: 0.5725 - val_accuracy: 0.7925\n",
      "Epoch 20/25\n",
      "252/252 [==============================] - 303s 1s/step - loss: 0.2525 - accuracy: 0.8953 - val_loss: 0.6015 - val_accuracy: 0.7775\n",
      "Epoch 21/25\n",
      "252/252 [==============================] - 322s 1s/step - loss: 0.2362 - accuracy: 0.9020 - val_loss: 0.6111 - val_accuracy: 0.7865\n",
      "Epoch 22/25\n",
      "252/252 [==============================] - 315s 1s/step - loss: 0.2239 - accuracy: 0.9109 - val_loss: 0.6255 - val_accuracy: 0.7775\n",
      "Epoch 23/25\n",
      "252/252 [==============================] - 352s 1s/step - loss: 0.2202 - accuracy: 0.9110 - val_loss: 0.6504 - val_accuracy: 0.7755\n",
      "Epoch 24/25\n",
      "252/252 [==============================] - 323s 1s/step - loss: 0.2005 - accuracy: 0.9180 - val_loss: 0.7114 - val_accuracy: 0.7745\n",
      "Epoch 25/25\n",
      "252/252 [==============================] - 328s 1s/step - loss: 0.1906 - accuracy: 0.9238 - val_loss: 0.6581 - val_accuracy: 0.7805\n"
     ]
    },
    {
     "data": {
      "text/plain": [
       "<keras.callbacks.History at 0x2462dcee6a0>"
      ]
     },
     "execution_count": 38,
     "metadata": {},
     "output_type": "execute_result"
    }
   ],
   "source": [
    "classifier.fit(x=training_set,validation_data=test_set,epochs=25)"
   ]
  },
  {
   "cell_type": "code",
   "execution_count": 39,
   "id": "8b000e8d",
   "metadata": {},
   "outputs": [],
   "source": [
    "#Evolution|"
   ]
  },
  {
   "cell_type": "code",
   "execution_count": 40,
   "id": "d2b04181",
   "metadata": {},
   "outputs": [],
   "source": [
    "#Making the single prediction"
   ]
  },
  {
   "cell_type": "code",
   "execution_count": 41,
   "id": "ec9728c1",
   "metadata": {},
   "outputs": [],
   "source": [
    "import numpy as np"
   ]
  },
  {
   "cell_type": "code",
   "execution_count": 42,
   "id": "992f2996",
   "metadata": {},
   "outputs": [],
   "source": [
    "import pandas as pd"
   ]
  },
  {
   "cell_type": "code",
   "execution_count": 43,
   "id": "75a1919a",
   "metadata": {},
   "outputs": [],
   "source": [
    "from PIL import Image "
   ]
  },
  {
   "cell_type": "code",
   "execution_count": 45,
   "id": "18fc2471",
   "metadata": {},
   "outputs": [],
   "source": [
    "test_image=Image.open('C:\\\\Users\\\\dell\\\\dataset-20221115T103045Z-001\\\\dataset\\\\single_prediction\\\\cat_or_dog_2.jpg')\n",
    "test_image=test_image.resize((64,64))\n",
    "test_image=np.array(test_image)\n",
    "test_image=np.expand_dims(test_image,axis=0)\n"
   ]
  },
  {
   "cell_type": "code",
   "execution_count": 46,
   "id": "4b9e1224",
   "metadata": {},
   "outputs": [
    {
     "name": "stdout",
     "output_type": "stream",
     "text": [
      "1/1 [==============================] - 3s 3s/step\n"
     ]
    }
   ],
   "source": [
    "result=classifier.predict(test_image)"
   ]
  },
  {
   "cell_type": "code",
   "execution_count": 47,
   "id": "ad7c05bf",
   "metadata": {},
   "outputs": [
    {
     "name": "stdout",
     "output_type": "stream",
     "text": [
      "Its a Cat\n"
     ]
    }
   ],
   "source": [
    "if result[0][0]==1:\n",
    "    print('Its a Dog')\n",
    "else:\n",
    "     print('Its a Cat')"
   ]
  },
  {
   "cell_type": "code",
   "execution_count": 48,
   "id": "14cb2947",
   "metadata": {},
   "outputs": [
    {
     "name": "stdout",
     "output_type": "stream",
     "text": [
      "1/1 [==============================] - 0s 60ms/step\n",
      "Its a Dog\n"
     ]
    }
   ],
   "source": [
    "test_image=Image.open('C:\\\\Users\\\\dell\\\\dataset-20221115T103045Z-001\\\\dataset\\\\single_prediction\\\\cat_or_dog_1.jpg')\n",
    "test_image=test_image.resize((64,64))\n",
    "test_image=np.array(test_image)\n",
    "test_image=np.expand_dims(test_image,axis=0)\n",
    "result=classifier.predict(test_image)\n",
    "\n",
    "if result[0][0]==1:\n",
    "    print('Its a Dog')\n",
    "else:\n",
    "     print('Its a Cat')"
   ]
  },
  {
   "cell_type": "code",
   "execution_count": null,
   "id": "a07ef848",
   "metadata": {},
   "outputs": [],
   "source": []
  }
 ],
 "metadata": {
  "kernelspec": {
   "display_name": "Python 3 (ipykernel)",
   "language": "python",
   "name": "python3"
  },
  "language_info": {
   "codemirror_mode": {
    "name": "ipython",
    "version": 3
   },
   "file_extension": ".py",
   "mimetype": "text/x-python",
   "name": "python",
   "nbconvert_exporter": "python",
   "pygments_lexer": "ipython3",
   "version": "3.9.12"
  }
 },
 "nbformat": 4,
 "nbformat_minor": 5
}
